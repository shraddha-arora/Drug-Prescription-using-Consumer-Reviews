{
 "cells": [
  {
   "cell_type": "markdown",
   "metadata": {},
   "source": [
    "### Importing the Libraries"
   ]
  },
  {
   "cell_type": "code",
   "execution_count": 1,
   "metadata": {},
   "outputs": [],
   "source": [
    "import numpy as np\n",
    "import pandas as pd\n",
    "import string\n",
    "\n",
    "import matplotlib.pyplot as plt\n",
    "import seaborn as sns\n",
    "\n",
    "import ipywidgets\n",
    "from ipywidgets import interact\n",
    "\n",
    "plt.rcParams['figure.figsize'] = (15, 5)\n",
    "#print(plt.style.available)\n",
    "plt.style.use('fivethirtyeight')"
   ]
  },
  {
   "cell_type": "markdown",
   "metadata": {},
   "source": [
    "### Reading the dataset"
   ]
  },
  {
   "cell_type": "code",
   "execution_count": 2,
   "metadata": {},
   "outputs": [
    {
     "name": "stdout",
     "output_type": "stream",
     "text": [
      "The shape of the datasetset : (161297, 7)\n"
     ]
    }
   ],
   "source": [
    "#reading the dataset\n",
    "dataset = pd.read_csv('drug.csv')\n",
    "\n",
    "#printing shape of the dataset\n",
    "print(\"The shape of the datasetset :\", dataset.shape)"
   ]
  },
  {
   "cell_type": "code",
   "execution_count": 3,
   "metadata": {},
   "outputs": [
    {
     "data": {
      "text/html": [
       "<div>\n",
       "<style scoped>\n",
       "    .dataframe tbody tr th:only-of-type {\n",
       "        vertical-align: middle;\n",
       "    }\n",
       "\n",
       "    .dataframe tbody tr th {\n",
       "        vertical-align: top;\n",
       "    }\n",
       "\n",
       "    .dataframe thead th {\n",
       "        text-align: right;\n",
       "    }\n",
       "</style>\n",
       "<table border=\"1\" class=\"dataframe\">\n",
       "  <thead>\n",
       "    <tr style=\"text-align: right;\">\n",
       "      <th></th>\n",
       "      <th>uniqueID</th>\n",
       "      <th>drugName</th>\n",
       "      <th>condition</th>\n",
       "      <th>review</th>\n",
       "      <th>rating</th>\n",
       "      <th>date</th>\n",
       "      <th>usefulCount</th>\n",
       "    </tr>\n",
       "  </thead>\n",
       "  <tbody>\n",
       "    <tr>\n",
       "      <th>0</th>\n",
       "      <td>206461</td>\n",
       "      <td>Valsartan</td>\n",
       "      <td>Left Ventricular Dysfunction</td>\n",
       "      <td>\"It has no side effect, I take it in combinati...</td>\n",
       "      <td>9</td>\n",
       "      <td>20-May-12</td>\n",
       "      <td>27</td>\n",
       "    </tr>\n",
       "    <tr>\n",
       "      <th>1</th>\n",
       "      <td>95260</td>\n",
       "      <td>Guanfacine</td>\n",
       "      <td>ADHD</td>\n",
       "      <td>\"My son is halfway through his fourth week of ...</td>\n",
       "      <td>8</td>\n",
       "      <td>27-Apr-10</td>\n",
       "      <td>192</td>\n",
       "    </tr>\n",
       "    <tr>\n",
       "      <th>2</th>\n",
       "      <td>92703</td>\n",
       "      <td>Lybrel</td>\n",
       "      <td>Birth Control</td>\n",
       "      <td>\"I used to take another oral contraceptive, wh...</td>\n",
       "      <td>5</td>\n",
       "      <td>14-Dec-09</td>\n",
       "      <td>17</td>\n",
       "    </tr>\n",
       "    <tr>\n",
       "      <th>3</th>\n",
       "      <td>138000</td>\n",
       "      <td>Ortho Evra</td>\n",
       "      <td>Birth Control</td>\n",
       "      <td>\"This is my first time using any form of birth...</td>\n",
       "      <td>8</td>\n",
       "      <td>3-Nov-15</td>\n",
       "      <td>10</td>\n",
       "    </tr>\n",
       "    <tr>\n",
       "      <th>4</th>\n",
       "      <td>35696</td>\n",
       "      <td>Buprenorphine / naloxone</td>\n",
       "      <td>Opiate Dependence</td>\n",
       "      <td>\"Suboxone has completely turned my life around...</td>\n",
       "      <td>9</td>\n",
       "      <td>27-Nov-16</td>\n",
       "      <td>37</td>\n",
       "    </tr>\n",
       "  </tbody>\n",
       "</table>\n",
       "</div>"
      ],
      "text/plain": [
       "   uniqueID                  drugName                     condition  \\\n",
       "0    206461                 Valsartan  Left Ventricular Dysfunction   \n",
       "1     95260                Guanfacine                          ADHD   \n",
       "2     92703                    Lybrel                 Birth Control   \n",
       "3    138000                Ortho Evra                 Birth Control   \n",
       "4     35696  Buprenorphine / naloxone             Opiate Dependence   \n",
       "\n",
       "                                              review  rating       date  \\\n",
       "0  \"It has no side effect, I take it in combinati...       9  20-May-12   \n",
       "1  \"My son is halfway through his fourth week of ...       8  27-Apr-10   \n",
       "2  \"I used to take another oral contraceptive, wh...       5  14-Dec-09   \n",
       "3  \"This is my first time using any form of birth...       8   3-Nov-15   \n",
       "4  \"Suboxone has completely turned my life around...       9  27-Nov-16   \n",
       "\n",
       "   usefulCount  \n",
       "0           27  \n",
       "1          192  \n",
       "2           17  \n",
       "3           10  \n",
       "4           37  "
      ]
     },
     "execution_count": 3,
     "metadata": {},
     "output_type": "execute_result"
    }
   ],
   "source": [
    "#head of the dataset\n",
    "dataset.head()"
   ]
  },
  {
   "cell_type": "code",
   "execution_count": 4,
   "metadata": {},
   "outputs": [
    {
     "name": "stdout",
     "output_type": "stream",
     "text": [
      "Number of unique drugs present in the dataset:  3436\n",
      "Number of unique medical conditions present in the dataset:  884\n",
      "\n",
      "Time period of collection of data:\n",
      "Starting date:  1-Apr-08\n",
      "Ending date:  9-Sep-17\n"
     ]
    }
   ],
   "source": [
    "#number of unique drugs present in the dataset\n",
    "print(\"Number of unique drugs present in the dataset: \", dataset['drugName'].nunique())\n",
    "\n",
    "#number of unique medical conditions as mentioned in the dataset\n",
    "print(\"Number of unique medical conditions present in the dataset: \", dataset['condition'].nunique())\n",
    "\n",
    "#Time period when the data was collected\n",
    "print(\"\\nTime period of collection of data:\")\n",
    "\n",
    "#Starting Date\n",
    "print(\"Starting date: \", dataset['date'].min())\n",
    "\n",
    "#Ending date\n",
    "print(\"Ending date: \", dataset['date'].max())"
   ]
  },
  {
   "cell_type": "markdown",
   "metadata": {},
   "source": [
    "### Summarizing the datasetset"
   ]
  },
  {
   "cell_type": "code",
   "execution_count": 5,
   "metadata": {},
   "outputs": [
    {
     "data": {
      "text/html": [
       "<div>\n",
       "<style scoped>\n",
       "    .dataframe tbody tr th:only-of-type {\n",
       "        vertical-align: middle;\n",
       "    }\n",
       "\n",
       "    .dataframe tbody tr th {\n",
       "        vertical-align: top;\n",
       "    }\n",
       "\n",
       "    .dataframe thead th {\n",
       "        text-align: right;\n",
       "    }\n",
       "</style>\n",
       "<table border=\"1\" class=\"dataframe\">\n",
       "  <thead>\n",
       "    <tr style=\"text-align: right;\">\n",
       "      <th></th>\n",
       "      <th>rating</th>\n",
       "      <th>usefulCount</th>\n",
       "    </tr>\n",
       "  </thead>\n",
       "  <tbody>\n",
       "    <tr>\n",
       "      <th>count</th>\n",
       "      <td>161297.000000</td>\n",
       "      <td>161297.000000</td>\n",
       "    </tr>\n",
       "    <tr>\n",
       "      <th>mean</th>\n",
       "      <td>6.994377</td>\n",
       "      <td>28.004755</td>\n",
       "    </tr>\n",
       "    <tr>\n",
       "      <th>std</th>\n",
       "      <td>3.272329</td>\n",
       "      <td>36.403742</td>\n",
       "    </tr>\n",
       "    <tr>\n",
       "      <th>min</th>\n",
       "      <td>1.000000</td>\n",
       "      <td>0.000000</td>\n",
       "    </tr>\n",
       "    <tr>\n",
       "      <th>25%</th>\n",
       "      <td>5.000000</td>\n",
       "      <td>6.000000</td>\n",
       "    </tr>\n",
       "    <tr>\n",
       "      <th>50%</th>\n",
       "      <td>8.000000</td>\n",
       "      <td>16.000000</td>\n",
       "    </tr>\n",
       "    <tr>\n",
       "      <th>75%</th>\n",
       "      <td>10.000000</td>\n",
       "      <td>36.000000</td>\n",
       "    </tr>\n",
       "    <tr>\n",
       "      <th>max</th>\n",
       "      <td>10.000000</td>\n",
       "      <td>1291.000000</td>\n",
       "    </tr>\n",
       "  </tbody>\n",
       "</table>\n",
       "</div>"
      ],
      "text/plain": [
       "              rating    usefulCount\n",
       "count  161297.000000  161297.000000\n",
       "mean        6.994377      28.004755\n",
       "std         3.272329      36.403742\n",
       "min         1.000000       0.000000\n",
       "25%         5.000000       6.000000\n",
       "50%         8.000000      16.000000\n",
       "75%        10.000000      36.000000\n",
       "max        10.000000    1291.000000"
      ]
     },
     "execution_count": 5,
     "metadata": {},
     "output_type": "execute_result"
    }
   ],
   "source": [
    "#fetching rating and useful count of the drugs\n",
    "dataset[['rating','usefulCount']].describe()"
   ]
  },
  {
   "cell_type": "code",
   "execution_count": 6,
   "metadata": {},
   "outputs": [
    {
     "name": "stdout",
     "output_type": "stream",
     "text": [
      "\n",
      "USELESS DRUG ANALYSIS:\n",
      "\n",
      "Number of drugs with no useful count : 6318\n",
      "Average rating of drugs with no Useful count : 5.80\n",
      "\n",
      "Name of the drug and the medical condition they are associated with: \n",
      "                      drugName                condition\n",
      "0                Trimethoprim  Urinary Tract Infection\n",
      "1                    MoviPrep        Bowel Preparation\n",
      "2     Ledipasvir / sofosbuvir              Hepatitis C\n",
      "3                    NuvaRing            Birth Control\n",
      "4                  Lurasidone            Schizophrenia\n",
      "...                       ...                      ...\n",
      "6313                  Myobloc        Cervical Dystonia\n",
      "6314           Levonorgestrel            Birth Control\n",
      "6315                Nexplanon            Birth Control\n",
      "6316                Lorazepam                  Anxiety\n",
      "6317           Junel 1.5 / 30            Birth Control\n",
      "\n",
      "[6318 rows x 2 columns]\n",
      "\n",
      "USEFUL DRUG ANALYSIS:\n",
      "\n",
      "Number of drugs with 1000+ useful counts : 4\n",
      "Average rating of drugs with 1000+ useful counts : 10.0\n",
      "\n",
      "Name of the drug and the medical condition they are associated with: \n",
      "\n",
      "          drugName      condition\n",
      "0          Mirena  Birth Control\n",
      "1      Sertraline     Depression\n",
      "2  Levonorgestrel  Birth Control\n",
      "3          Zoloft     Depression\n"
     ]
    }
   ],
   "source": [
    "#fetching the number and names of the drugs with useful count = 0\n",
    "print(\"\\nUSELESS DRUG ANALYSIS:\\n\")\n",
    "\n",
    "#number of drugs with useful count = 0\n",
    "print(\"Number of drugs with no useful count :\", dataset[dataset['usefulCount'] == 0].count()[0])\n",
    "\n",
    "#average rating of drugs with useful count = 0\n",
    "print(\"Average rating of drugs with no Useful count : {0:.2f}\".format(dataset[dataset['usefulCount'] == 0]['rating'].mean()))\n",
    "\n",
    "#name of the drug and the medical condition it is associated with (useful count = 0)\n",
    "print(\"\\nName of the drug and the medical condition they are associated with: \\n\", \n",
    "    dataset[dataset['usefulCount'] == 0][['drugName','condition']].reset_index(drop = True))\n",
    "\n",
    "#fetching the number and names of the drugs with useful count > 1000\n",
    "print(\"\\nUSEFUL DRUG ANALYSIS:\\n\")\n",
    "print(\"Number of drugs with 1000+ useful counts :\", dataset[dataset['usefulCount'] > 1000].count()[0])\n",
    "print(\"Average rating of drugs with 1000+ useful counts :\", dataset[dataset['usefulCount'] > 1000]['rating'].mean())\n",
    "print(\"\\nName of the drug and the medical condition they are associated with: \\n\\n\", \n",
    "    dataset[dataset['usefulCount'] > 1000][['drugName','condition']].reset_index(drop = True))"
   ]
  },
  {
   "cell_type": "code",
   "execution_count": 7,
   "metadata": {},
   "outputs": [
    {
     "data": {
      "text/html": [
       "<div>\n",
       "<style scoped>\n",
       "    .dataframe tbody tr th:only-of-type {\n",
       "        vertical-align: middle;\n",
       "    }\n",
       "\n",
       "    .dataframe tbody tr th {\n",
       "        vertical-align: top;\n",
       "    }\n",
       "\n",
       "    .dataframe thead th {\n",
       "        text-align: right;\n",
       "    }\n",
       "</style>\n",
       "<table border=\"1\" class=\"dataframe\">\n",
       "  <thead>\n",
       "    <tr style=\"text-align: right;\">\n",
       "      <th></th>\n",
       "      <th>drugName</th>\n",
       "      <th>condition</th>\n",
       "      <th>review</th>\n",
       "    </tr>\n",
       "  </thead>\n",
       "  <tbody>\n",
       "    <tr>\n",
       "      <th>count</th>\n",
       "      <td>161297</td>\n",
       "      <td>160398</td>\n",
       "      <td>161297</td>\n",
       "    </tr>\n",
       "    <tr>\n",
       "      <th>unique</th>\n",
       "      <td>3436</td>\n",
       "      <td>884</td>\n",
       "      <td>112329</td>\n",
       "    </tr>\n",
       "    <tr>\n",
       "      <th>top</th>\n",
       "      <td>Levonorgestrel</td>\n",
       "      <td>Birth Control</td>\n",
       "      <td>\"Good\"</td>\n",
       "    </tr>\n",
       "    <tr>\n",
       "      <th>freq</th>\n",
       "      <td>3657</td>\n",
       "      <td>28788</td>\n",
       "      <td>33</td>\n",
       "    </tr>\n",
       "  </tbody>\n",
       "</table>\n",
       "</div>"
      ],
      "text/plain": [
       "              drugName      condition  review\n",
       "count           161297         160398  161297\n",
       "unique            3436            884  112329\n",
       "top     Levonorgestrel  Birth Control  \"Good\"\n",
       "freq              3657          28788      33"
      ]
     },
     "execution_count": 7,
     "metadata": {},
     "output_type": "execute_result"
    }
   ],
   "source": [
    "#summarizing categorical data\n",
    "dataset[['drugName','condition','review']].describe(include = 'object')"
   ]
  },
  {
   "cell_type": "code",
   "execution_count": 8,
   "metadata": {},
   "outputs": [
    {
     "data": {
      "text/plain": [
       "uniqueID         0\n",
       "drugName         0\n",
       "condition      899\n",
       "review           0\n",
       "rating           0\n",
       "date             0\n",
       "usefulCount      0\n",
       "dtype: int64"
      ]
     },
     "execution_count": 8,
     "metadata": {},
     "output_type": "execute_result"
    }
   ],
   "source": [
    "#checking for null values\n",
    "dataset.isnull().sum()"
   ]
  },
  {
   "cell_type": "code",
   "execution_count": 9,
   "metadata": {},
   "outputs": [
    {
     "data": {
      "text/plain": [
       "0"
      ]
     },
     "execution_count": 9,
     "metadata": {},
     "output_type": "execute_result"
    }
   ],
   "source": [
    "#deleting all records with null as an entry for medical condition since it is an essential detail for analysis of drugs\n",
    "dataset = dataset.dropna()\n",
    "\n",
    "#checking for missing values\n",
    "dataset.isnull().sum().sum()"
   ]
  },
  {
   "cell_type": "markdown",
   "metadata": {},
   "source": [
    "### Analysing hidden patterns in the Dataset"
   ]
  },
  {
   "cell_type": "code",
   "execution_count": 10,
   "metadata": {},
   "outputs": [
    {
     "name": "stderr",
     "output_type": "stream",
     "text": [
      "C:\\Users\\Shraddha\\AppData\\Local\\Programs\\Python\\Python39\\lib\\site-packages\\seaborn\\distributions.py:2619: FutureWarning: `distplot` is a deprecated function and will be removed in a future version. Please adapt your code to use either `displot` (a figure-level function with similar flexibility) or `histplot` (an axes-level function for histograms).\n",
      "  warnings.warn(msg, FutureWarning)\n",
      "C:\\Users\\Shraddha\\AppData\\Local\\Programs\\Python\\Python39\\lib\\site-packages\\seaborn\\distributions.py:2619: FutureWarning: `distplot` is a deprecated function and will be removed in a future version. Please adapt your code to use either `displot` (a figure-level function with similar flexibility) or `histplot` (an axes-level function for histograms).\n",
      "  warnings.warn(msg, FutureWarning)\n"
     ]
    },
    {
     "data": {
      "image/png": "[encoded data removed]",
      "text/plain": [
       "<Figure size 1080x288 with 2 Axes>"
      ]
     },
     "metadata": {},
     "output_type": "display_data"
    }
   ],
   "source": [
    "#plotting distribution of rating and useful count\n",
    "\n",
    "plt.rcParams['figure.figsize'] = (15, 4)\n",
    "\n",
    "plt.subplot(1, 2, 1)\n",
    "sns.distplot(dataset['rating'])\n",
    "\n",
    "plt.subplot(1, 2, 2)\n",
    "sns.distplot(dataset['usefulCount'])\n",
    "\n",
    "plt.suptitle('Distribution of Rating and Useful Count \\n ', fontsize = 20)\n",
    "plt.show()"
   ]
  },
  {
   "cell_type": "code",
   "execution_count": 11,
   "metadata": {},
   "outputs": [
    {
     "name": "stderr",
     "output_type": "stream",
     "text": [
      "C:\\Users\\Shraddha\\AppData\\Local\\Programs\\Python\\Python39\\lib\\site-packages\\seaborn\\_decorators.py:36: FutureWarning: Pass the following variables as keyword args: x, y. From version 0.12, the only valid positional argument will be `data`, and passing other arguments without an explicit keyword will result in an error or misinterpretation.\n",
      "  warnings.warn(\n"
     ]
    },
    {
     "data": {
      "image/png": "[encoded data removed]",
      "text/plain": [
       "<Figure size 1080x288 with 1 Axes>"
      ]
     },
     "metadata": {},
     "output_type": "display_data"
    }
   ],
   "source": [
    "#checking the impact of ratings on usefulness\n",
    "\n",
    "plt.rcParams['figure.figsize'] = (15, 4)\n",
    "sns.barplot(dataset['rating'], dataset['usefulCount'], palette = 'rocket')\n",
    "plt.grid()\n",
    "plt.xlabel('\\n Ratings')\n",
    "plt.ylabel('Count\\n', fontsize = 20)\n",
    "plt.title('\\n Rating vs Usefulness \\n', fontsize = 20)\n",
    "plt.show()"
   ]
  },
  {
   "cell_type": "code",
   "execution_count": 12,
   "metadata": {},
   "outputs": [],
   "source": [
    "#checking if the length of the review has any impact on ratings of the drugs\n",
    "dataset['len']  = dataset['review'].apply(len)"
   ]
  },
  {
   "cell_type": "code",
   "execution_count": 13,
   "metadata": {},
   "outputs": [
    {
     "data": {
      "text/html": [
       "<div>\n",
       "<style scoped>\n",
       "    .dataframe tbody tr th:only-of-type {\n",
       "        vertical-align: middle;\n",
       "    }\n",
       "\n",
       "    .dataframe tbody tr th {\n",
       "        vertical-align: top;\n",
       "    }\n",
       "\n",
       "    .dataframe thead tr th {\n",
       "        text-align: left;\n",
       "    }\n",
       "\n",
       "    .dataframe thead tr:last-of-type th {\n",
       "        text-align: right;\n",
       "    }\n",
       "</style>\n",
       "<table border=\"1\" class=\"dataframe\">\n",
       "  <thead>\n",
       "    <tr>\n",
       "      <th></th>\n",
       "      <th colspan=\"3\" halign=\"left\">len</th>\n",
       "    </tr>\n",
       "    <tr>\n",
       "      <th></th>\n",
       "      <th>min</th>\n",
       "      <th>mean</th>\n",
       "      <th>max</th>\n",
       "    </tr>\n",
       "    <tr>\n",
       "      <th>rating</th>\n",
       "      <th></th>\n",
       "      <th></th>\n",
       "      <th></th>\n",
       "    </tr>\n",
       "  </thead>\n",
       "  <tbody>\n",
       "    <tr>\n",
       "      <th>1</th>\n",
       "      <td>5</td>\n",
       "      <td>428.784505</td>\n",
       "      <td>3692</td>\n",
       "    </tr>\n",
       "    <tr>\n",
       "      <th>2</th>\n",
       "      <td>9</td>\n",
       "      <td>452.902893</td>\n",
       "      <td>10787</td>\n",
       "    </tr>\n",
       "    <tr>\n",
       "      <th>3</th>\n",
       "      <td>8</td>\n",
       "      <td>461.249961</td>\n",
       "      <td>5112</td>\n",
       "    </tr>\n",
       "    <tr>\n",
       "      <th>4</th>\n",
       "      <td>7</td>\n",
       "      <td>464.077912</td>\n",
       "      <td>3030</td>\n",
       "    </tr>\n",
       "    <tr>\n",
       "      <th>5</th>\n",
       "      <td>6</td>\n",
       "      <td>477.982661</td>\n",
       "      <td>2048</td>\n",
       "    </tr>\n",
       "    <tr>\n",
       "      <th>6</th>\n",
       "      <td>4</td>\n",
       "      <td>467.957150</td>\n",
       "      <td>2202</td>\n",
       "    </tr>\n",
       "    <tr>\n",
       "      <th>7</th>\n",
       "      <td>6</td>\n",
       "      <td>485.597765</td>\n",
       "      <td>3063</td>\n",
       "    </tr>\n",
       "    <tr>\n",
       "      <th>8</th>\n",
       "      <td>3</td>\n",
       "      <td>483.584163</td>\n",
       "      <td>4087</td>\n",
       "    </tr>\n",
       "    <tr>\n",
       "      <th>9</th>\n",
       "      <td>3</td>\n",
       "      <td>477.696117</td>\n",
       "      <td>6182</td>\n",
       "    </tr>\n",
       "    <tr>\n",
       "      <th>10</th>\n",
       "      <td>3</td>\n",
       "      <td>443.215923</td>\n",
       "      <td>6192</td>\n",
       "    </tr>\n",
       "  </tbody>\n",
       "</table>\n",
       "</div>"
      ],
      "text/plain": [
       "       len                   \n",
       "       min        mean    max\n",
       "rating                       \n",
       "1        5  428.784505   3692\n",
       "2        9  452.902893  10787\n",
       "3        8  461.249961   5112\n",
       "4        7  464.077912   3030\n",
       "5        6  477.982661   2048\n",
       "6        4  467.957150   2202\n",
       "7        6  485.597765   3063\n",
       "8        3  483.584163   4087\n",
       "9        3  477.696117   6182\n",
       "10       3  443.215923   6192"
      ]
     },
     "execution_count": 13,
     "metadata": {},
     "output_type": "execute_result"
    }
   ],
   "source": [
    "#checking the impact of length of reviews on ratings\n",
    "dataset[['rating','len']].groupby(['rating']).agg(['min','mean','max'])"
   ]
  },
  {
   "cell_type": "code",
   "execution_count": 14,
   "metadata": {},
   "outputs": [
    {
     "name": "stdout",
     "output_type": "stream",
     "text": [
      "Length of Longest Review 10787\n"
     ]
    }
   ],
   "source": [
    "#analysing the longest review\n",
    "print(\"Length of Longest Review\", dataset['len'].max())\n",
    "# dataset['review'][dataset['len'] == dataset['len'].max()].iloc[0]"
   ]
  },
  {
   "cell_type": "markdown",
   "metadata": {},
   "source": [
    "### Cleaning the Reviews"
   ]
  },
  {
   "cell_type": "code",
   "execution_count": 15,
   "metadata": {},
   "outputs": [],
   "source": [
    "#removing punctuations from the reviews\n",
    "def punctuation_removal(messy_str):\n",
    "    clean_list = [char for char in messy_str if char not in string.punctuation]\n",
    "    clean_str = ''.join(clean_list)\n",
    "    return clean_str\n",
    "\n",
    "dataset['review'] = dataset['review'].apply(punctuation_removal)"
   ]
  },
  {
   "cell_type": "code",
   "execution_count": 16,
   "metadata": {},
   "outputs": [],
   "source": [
    "#removing stopwords from the reviews\n",
    "from nltk.corpus import stopwords\n",
    "from nltk.tokenize import word_tokenize\n",
    "\n",
    "stop = stopwords.words('english')\n",
    "stop.append(\"i'm\")\n",
    "\n",
    "stop_words = []\n",
    "\n",
    "for item in stop: \n",
    "    new_item = punctuation_removal(item)\n",
    "    stop_words.append(new_item) \n",
    "\n",
    "def stopwords_removal(messy_str):\n",
    "    messy_str = word_tokenize(messy_str)\n",
    "    return [word.lower() for word in messy_str \n",
    "            if word.lower() not in stop_words ]\n",
    "\n",
    "dataset['review'] = dataset['review'].apply(stopwords_removal)"
   ]
  },
  {
   "cell_type": "code",
   "execution_count": 17,
   "metadata": {},
   "outputs": [],
   "source": [
    "#removing numbers from reviews\n",
    "import re\n",
    "def drop_numbers(list_text):\n",
    "    list_text_new = []\n",
    "    for i in list_text:\n",
    "        if not re.search('\\d', i):\n",
    "            list_text_new.append(i)\n",
    "    return ' '.join(list_text_new)\n",
    "\n",
    "dataset['review'] = dataset['review'].apply(drop_numbers)"
   ]
  },
  {
   "cell_type": "markdown",
   "metadata": {},
   "source": [
    "### Calculating the Sentiment from Reviews"
   ]
  },
  {
   "cell_type": "code",
   "execution_count": 18,
   "metadata": {},
   "outputs": [
    {
     "name": "stderr",
     "output_type": "stream",
     "text": [
      "[nltk_data] Downloading package vader_lexicon to\n",
      "[nltk_data]     C:\\Users\\Shraddha\\AppData\\Roaming\\nltk_data...\n",
      "[nltk_data]   Package vader_lexicon is already up-to-date!\n"
     ]
    },
    {
     "data": {
      "text/plain": [
       "True"
      ]
     },
     "execution_count": 18,
     "metadata": {},
     "output_type": "execute_result"
    }
   ],
   "source": [
    "import nltk\n",
    "nltk.download('vader_lexicon')"
   ]
  },
  {
   "cell_type": "code",
   "execution_count": 19,
   "metadata": {},
   "outputs": [],
   "source": [
    "#analysing sentiments from the reviews\n",
    "\n",
    "from nltk.sentiment.vader import SentimentIntensityAnalyzer\n",
    "sid = SentimentIntensityAnalyzer()\n",
    "\n",
    "train_sentiments = []\n",
    "\n",
    "for i in dataset['review']:\n",
    "    train_sentiments.append(sid.polarity_scores(i).get('compound'))\n",
    "    \n",
    "train_sentiments = np.asarray(train_sentiments)\n",
    "dataset['sentiment'] = pd.Series(data=train_sentiments)"
   ]
  },
  {
   "cell_type": "code",
   "execution_count": 20,
   "metadata": {},
   "outputs": [
    {
     "data": {
      "text/html": [
       "<div>\n",
       "<style scoped>\n",
       "    .dataframe tbody tr th:only-of-type {\n",
       "        vertical-align: middle;\n",
       "    }\n",
       "\n",
       "    .dataframe tbody tr th {\n",
       "        vertical-align: top;\n",
       "    }\n",
       "\n",
       "    .dataframe thead tr th {\n",
       "        text-align: left;\n",
       "    }\n",
       "\n",
       "    .dataframe thead tr:last-of-type th {\n",
       "        text-align: right;\n",
       "    }\n",
       "</style>\n",
       "<table border=\"1\" class=\"dataframe\">\n",
       "  <thead>\n",
       "    <tr>\n",
       "      <th></th>\n",
       "      <th colspan=\"3\" halign=\"left\">sentiment</th>\n",
       "    </tr>\n",
       "    <tr>\n",
       "      <th></th>\n",
       "      <th>min</th>\n",
       "      <th>mean</th>\n",
       "      <th>max</th>\n",
       "    </tr>\n",
       "    <tr>\n",
       "      <th>rating</th>\n",
       "      <th></th>\n",
       "      <th></th>\n",
       "      <th></th>\n",
       "    </tr>\n",
       "  </thead>\n",
       "  <tbody>\n",
       "    <tr>\n",
       "      <th>1</th>\n",
       "      <td>-0.9931</td>\n",
       "      <td>0.005311</td>\n",
       "      <td>0.9898</td>\n",
       "    </tr>\n",
       "    <tr>\n",
       "      <th>2</th>\n",
       "      <td>-0.9929</td>\n",
       "      <td>0.003867</td>\n",
       "      <td>0.9924</td>\n",
       "    </tr>\n",
       "    <tr>\n",
       "      <th>3</th>\n",
       "      <td>-0.9925</td>\n",
       "      <td>0.003170</td>\n",
       "      <td>0.9877</td>\n",
       "    </tr>\n",
       "    <tr>\n",
       "      <th>4</th>\n",
       "      <td>-0.9919</td>\n",
       "      <td>0.000697</td>\n",
       "      <td>0.9867</td>\n",
       "    </tr>\n",
       "    <tr>\n",
       "      <th>5</th>\n",
       "      <td>-0.9920</td>\n",
       "      <td>0.014445</td>\n",
       "      <td>0.9882</td>\n",
       "    </tr>\n",
       "    <tr>\n",
       "      <th>6</th>\n",
       "      <td>-0.9914</td>\n",
       "      <td>0.008838</td>\n",
       "      <td>0.9936</td>\n",
       "    </tr>\n",
       "    <tr>\n",
       "      <th>7</th>\n",
       "      <td>-0.9938</td>\n",
       "      <td>-0.000509</td>\n",
       "      <td>0.9911</td>\n",
       "    </tr>\n",
       "    <tr>\n",
       "      <th>8</th>\n",
       "      <td>-0.9936</td>\n",
       "      <td>0.008952</td>\n",
       "      <td>0.9923</td>\n",
       "    </tr>\n",
       "    <tr>\n",
       "      <th>9</th>\n",
       "      <td>-0.9964</td>\n",
       "      <td>0.009489</td>\n",
       "      <td>0.9911</td>\n",
       "    </tr>\n",
       "    <tr>\n",
       "      <th>10</th>\n",
       "      <td>-0.9982</td>\n",
       "      <td>0.005446</td>\n",
       "      <td>0.9923</td>\n",
       "    </tr>\n",
       "  </tbody>\n",
       "</table>\n",
       "</div>"
      ],
      "text/plain": [
       "       sentiment                  \n",
       "             min      mean     max\n",
       "rating                            \n",
       "1        -0.9931  0.005311  0.9898\n",
       "2        -0.9929  0.003867  0.9924\n",
       "3        -0.9925  0.003170  0.9877\n",
       "4        -0.9919  0.000697  0.9867\n",
       "5        -0.9920  0.014445  0.9882\n",
       "6        -0.9914  0.008838  0.9936\n",
       "7        -0.9938 -0.000509  0.9911\n",
       "8        -0.9936  0.008952  0.9923\n",
       "9        -0.9964  0.009489  0.9911\n",
       "10       -0.9982  0.005446  0.9923"
      ]
     },
     "execution_count": 20,
     "metadata": {},
     "output_type": "execute_result"
    }
   ],
   "source": [
    "#checking the impact of sentiments on the ratings\n",
    "dataset[['rating','sentiment']].groupby(['rating']).agg(['min','mean','max'])"
   ]
  },
  {
   "cell_type": "code",
   "execution_count": 21,
   "metadata": {},
   "outputs": [
    {
     "data": {
      "text/plain": [
       "Index(['drugName', 'condition', 'rating', 'usefulCount'], dtype='object')"
      ]
     },
     "execution_count": 21,
     "metadata": {},
     "output_type": "execute_result"
    }
   ],
   "source": [
    "#sentiment and length of reviews unrelated\n",
    "#removing irrelevant columns\n",
    "\n",
    "dataset = dataset.drop(['date','uniqueID','sentiment','review','len'], axis = 1)\n",
    "\n",
    "#columns in the dataset\n",
    "dataset.columns"
   ]
  },
  {
   "cell_type": "markdown",
   "metadata": {},
   "source": [
    "### Calculating Effectiveness and Usefulness of Drugs"
   ]
  },
  {
   "cell_type": "code",
   "execution_count": 22,
   "metadata": {},
   "outputs": [],
   "source": [
    "#calculating effective rating\n",
    "\n",
    "min_rating = dataset['rating'].min()\n",
    "max_rating = dataset['rating'].max()\n",
    "\n",
    "def scale_rating(rating):\n",
    "    rating -= min_rating\n",
    "    rating = rating/(max_rating -1)\n",
    "    rating *= 5\n",
    "    rating = int(round(rating,0))\n",
    "    \n",
    "    if(int(rating) == 0 or int(rating)==1 or int(rating)==2):\n",
    "        return 0\n",
    "    else:\n",
    "        return 1\n",
    "    \n",
    "dataset['eff_score'] = dataset['rating'].apply(scale_rating)"
   ]
  },
  {
   "cell_type": "code",
   "execution_count": 23,
   "metadata": {},
   "outputs": [
    {
     "data": {
      "text/html": [
       "<div>\n",
       "<style scoped>\n",
       "    .dataframe tbody tr th:only-of-type {\n",
       "        vertical-align: middle;\n",
       "    }\n",
       "\n",
       "    .dataframe tbody tr th {\n",
       "        vertical-align: top;\n",
       "    }\n",
       "\n",
       "    .dataframe thead th {\n",
       "        text-align: right;\n",
       "    }\n",
       "</style>\n",
       "<table border=\"1\" class=\"dataframe\">\n",
       "  <thead>\n",
       "    <tr style=\"text-align: right;\">\n",
       "      <th></th>\n",
       "      <th>drugName</th>\n",
       "      <th>condition</th>\n",
       "      <th>usefulness</th>\n",
       "    </tr>\n",
       "  </thead>\n",
       "  <tbody>\n",
       "    <tr>\n",
       "      <th>0</th>\n",
       "      <td>Sertraline</td>\n",
       "      <td>Depression</td>\n",
       "      <td>12910</td>\n",
       "    </tr>\n",
       "    <tr>\n",
       "      <th>1</th>\n",
       "      <td>Zoloft</td>\n",
       "      <td>Depression</td>\n",
       "      <td>12910</td>\n",
       "    </tr>\n",
       "    <tr>\n",
       "      <th>2</th>\n",
       "      <td>Levonorgestrel</td>\n",
       "      <td>Birth Control</td>\n",
       "      <td>12470</td>\n",
       "    </tr>\n",
       "    <tr>\n",
       "      <th>3</th>\n",
       "      <td>Mirena</td>\n",
       "      <td>Birth Control</td>\n",
       "      <td>12470</td>\n",
       "    </tr>\n",
       "    <tr>\n",
       "      <th>4</th>\n",
       "      <td>Zoloft</td>\n",
       "      <td>Depression</td>\n",
       "      <td>8541</td>\n",
       "    </tr>\n",
       "    <tr>\n",
       "      <th>5</th>\n",
       "      <td>Phentermine</td>\n",
       "      <td>Weight Loss</td>\n",
       "      <td>7960</td>\n",
       "    </tr>\n",
       "    <tr>\n",
       "      <th>6</th>\n",
       "      <td>Adipex-P</td>\n",
       "      <td>Weight Loss</td>\n",
       "      <td>7960</td>\n",
       "    </tr>\n",
       "    <tr>\n",
       "      <th>7</th>\n",
       "      <td>Implanon</td>\n",
       "      <td>Birth Control</td>\n",
       "      <td>7300</td>\n",
       "    </tr>\n",
       "    <tr>\n",
       "      <th>8</th>\n",
       "      <td>Viibryd</td>\n",
       "      <td>Depression</td>\n",
       "      <td>6930</td>\n",
       "    </tr>\n",
       "    <tr>\n",
       "      <th>9</th>\n",
       "      <td>Vilazodone</td>\n",
       "      <td>Depression</td>\n",
       "      <td>6930</td>\n",
       "    </tr>\n",
       "  </tbody>\n",
       "</table>\n",
       "</div>"
      ],
      "text/plain": [
       "         drugName      condition  usefulness\n",
       "0      Sertraline     Depression       12910\n",
       "1          Zoloft     Depression       12910\n",
       "2  Levonorgestrel  Birth Control       12470\n",
       "3          Mirena  Birth Control       12470\n",
       "4          Zoloft     Depression        8541\n",
       "5     Phentermine    Weight Loss        7960\n",
       "6        Adipex-P    Weight Loss        7960\n",
       "7        Implanon  Birth Control        7300\n",
       "8         Viibryd     Depression        6930\n",
       "9      Vilazodone     Depression        6930"
      ]
     },
     "execution_count": 23,
     "metadata": {},
     "output_type": "execute_result"
    }
   ],
   "source": [
    "#calculating usefulness score\n",
    "dataset['usefulness'] = dataset['rating']*dataset['usefulCount']*dataset['eff_score']\n",
    "\n",
    "#top 10 useful drugs with the medical conditions they are associated with\n",
    "dataset[['drugName','condition','usefulness']][dataset['usefulness'] > \n",
    "                            dataset['usefulness'].mean()].sort_values(by = 'usefulness', \n",
    "                                        ascending = False).head(10).reset_index(drop = True)"
   ]
  },
  {
   "cell_type": "markdown",
   "metadata": {},
   "source": [
    "### Analyzing the Medical Condtitions"
   ]
  },
  {
   "cell_type": "code",
   "execution_count": 24,
   "metadata": {},
   "outputs": [
    {
     "data": {
      "application/vnd.jupyter.widget-view+json": {
       "model_id": "ccf50fae97a24cb0aa24a5b1bc80c9a2",
       "version_major": 2,
       "version_minor": 0
      },
      "text/plain": [
       "interactive(children=(Dropdown(description='condition', options=('Birth Control', 'Depression', 'Pain', 'Anxie…"
      ]
     },
     "metadata": {},
     "output_type": "display_data"
    }
   ],
   "source": [
    "#calculating number of useless and useful drugs for each medical condition\n",
    "@interact\n",
    "def check(condition = list(dataset['condition'].value_counts().index)):\n",
    "    return dataset[dataset['condition'] == condition]['eff_score'].value_counts()"
   ]
  },
  {
   "cell_type": "code",
   "execution_count": 25,
   "metadata": {},
   "outputs": [
    {
     "data": {
      "image/png": "[encoded data removed]",
      "text/plain": [
       "<Figure size 1080x288 with 1 Axes>"
      ]
     },
     "metadata": {},
     "output_type": "display_data"
    }
   ],
   "source": [
    "#plotting a graph for the same\n",
    "\n",
    "popular_conditions = ('Birth Control','Depression','Pain','Anxiety','Acne','Prostate Cance','Insomnia','Weight Loss',\n",
    "                      'Obesity','ADHD', 'Diabetes, Type 2', 'Breast Cance', 'High Blood Pressure','Migrane')\n",
    "conditions = dataset.loc[dataset['condition'].isin(popular_conditions)]\n",
    "\n",
    "sns.barplot(x = conditions['condition'], y = conditions['rating'], hue = dataset['eff_score'], \n",
    "     palette = 'autumn')\n",
    "plt.title('Conditions vs Effective Number of Drugs')\n",
    "plt.xticks(rotation = 90)\n",
    "plt.ylabel(' ')\n",
    "plt.show()"
   ]
  },
  {
   "cell_type": "code",
   "execution_count": 26,
   "metadata": {},
   "outputs": [
    {
     "name": "stdout",
     "output_type": "stream",
     "text": [
      "Number of Unique Conditions : 884\n"
     ]
    },
    {
     "data": {
      "text/plain": [
       "Birth Control      28788\n",
       "Depression          9069\n",
       "Pain                6145\n",
       "Anxiety             5904\n",
       "Acne                5588\n",
       "Bipolar Disorde     4224\n",
       "Insomnia            3673\n",
       "Weight Loss         3609\n",
       "Obesity             3568\n",
       "ADHD                3383\n",
       "Name: condition, dtype: int64"
      ]
     },
     "execution_count": 26,
     "metadata": {},
     "output_type": "execute_result"
    }
   ],
   "source": [
    "#checking most frequently occuring medical conditions\n",
    "print(\"Number of Unique Conditions :\", dataset['condition'].nunique())\n",
    "dataset['condition'].value_counts().head(10)"
   ]
  },
  {
   "cell_type": "code",
   "execution_count": 27,
   "metadata": {},
   "outputs": [
    {
     "data": {
      "text/html": [
       "<div>\n",
       "<style scoped>\n",
       "    .dataframe tbody tr th:only-of-type {\n",
       "        vertical-align: middle;\n",
       "    }\n",
       "\n",
       "    .dataframe tbody tr th {\n",
       "        vertical-align: top;\n",
       "    }\n",
       "\n",
       "    .dataframe thead th {\n",
       "        text-align: right;\n",
       "    }\n",
       "</style>\n",
       "<table border=\"1\" class=\"dataframe\">\n",
       "  <thead>\n",
       "    <tr style=\"text-align: right;\">\n",
       "      <th></th>\n",
       "      <th>drugName</th>\n",
       "      <th>usefulCount</th>\n",
       "    </tr>\n",
       "  </thead>\n",
       "  <tbody>\n",
       "    <tr>\n",
       "      <th>0</th>\n",
       "      <td>Zoloft</td>\n",
       "      <td>1291</td>\n",
       "    </tr>\n",
       "    <tr>\n",
       "      <th>1</th>\n",
       "      <td>Sertraline</td>\n",
       "      <td>1291</td>\n",
       "    </tr>\n",
       "    <tr>\n",
       "      <th>2</th>\n",
       "      <td>Levonorgestrel</td>\n",
       "      <td>1247</td>\n",
       "    </tr>\n",
       "    <tr>\n",
       "      <th>3</th>\n",
       "      <td>Mirena</td>\n",
       "      <td>1247</td>\n",
       "    </tr>\n",
       "    <tr>\n",
       "      <th>4</th>\n",
       "      <td>Zoloft</td>\n",
       "      <td>949</td>\n",
       "    </tr>\n",
       "    <tr>\n",
       "      <th>5</th>\n",
       "      <td>Adipex-P</td>\n",
       "      <td>796</td>\n",
       "    </tr>\n",
       "    <tr>\n",
       "      <th>6</th>\n",
       "      <td>Phentermine</td>\n",
       "      <td>796</td>\n",
       "    </tr>\n",
       "    <tr>\n",
       "      <th>7</th>\n",
       "      <td>Celexa</td>\n",
       "      <td>771</td>\n",
       "    </tr>\n",
       "    <tr>\n",
       "      <th>8</th>\n",
       "      <td>Citalopram</td>\n",
       "      <td>771</td>\n",
       "    </tr>\n",
       "    <tr>\n",
       "      <th>9</th>\n",
       "      <td>Implanon</td>\n",
       "      <td>730</td>\n",
       "    </tr>\n",
       "  </tbody>\n",
       "</table>\n",
       "</div>"
      ],
      "text/plain": [
       "         drugName  usefulCount\n",
       "0          Zoloft         1291\n",
       "1      Sertraline         1291\n",
       "2  Levonorgestrel         1247\n",
       "3          Mirena         1247\n",
       "4          Zoloft          949\n",
       "5        Adipex-P          796\n",
       "6     Phentermine          796\n",
       "7          Celexa          771\n",
       "8      Citalopram          771\n",
       "9        Implanon          730"
      ]
     },
     "execution_count": 27,
     "metadata": {},
     "output_type": "execute_result"
    }
   ],
   "source": [
    "#checking drugs beneficial for the highest number of people\n",
    "dataset[['drugName','usefulCount']][dataset['usefulCount'] >\n",
    "                    dataset['usefulCount'].mean()].sort_values(by = 'usefulCount',\n",
    "                                        ascending = False).head(10).reset_index(drop = True)"
   ]
  },
  {
   "cell_type": "markdown",
   "metadata": {},
   "source": [
    "### Finding Most Useful and Useless Drugs for each Condition"
   ]
  },
  {
   "cell_type": "code",
   "execution_count": 28,
   "metadata": {},
   "outputs": [],
   "source": [
    "#removing all duplicates from the dataset\n",
    "dataset = dataset.drop_duplicates()"
   ]
  },
  {
   "cell_type": "code",
   "execution_count": 29,
   "metadata": {},
   "outputs": [
    {
     "data": {
      "application/vnd.jupyter.widget-view+json": {
       "model_id": "9dabb45045a24a8e857ddc5259c2776d",
       "version_major": 2,
       "version_minor": 0
      },
      "text/plain": [
       "interactive(children=(Dropdown(description='condition', options=('Birth Control', 'Depression', 'Pain', 'Anxie…"
      ]
     },
     "metadata": {},
     "output_type": "display_data"
    }
   ],
   "source": [
    "#fetching highest and lowest rated drugs for each condition\n",
    "@interact\n",
    "def high_low_rate(condition = list(dataset['condition'].value_counts().index)):\n",
    "    print(\"\\n Top 5 Drugs\")\n",
    "    print(dataset[dataset['condition'] == condition][['drugName','usefulness']].sort_values(by = 'usefulness',\n",
    "                                                 ascending = False).head().reset_index(drop = True))\n",
    "    print(\"\\n\\n Bottom 5 Drugs\")\n",
    "    print(dataset[dataset['condition'] == condition][['drugName','usefulness']].sort_values(by = 'usefulness',\n",
    "                                                 ascending = True).head().reset_index(drop = True))"
   ]
  }
 ],
 "metadata": {
  "kernelspec": {
   "display_name": "Python 3",
   "language": "python",
   "name": "python3"
  },
  "language_info": {
   "codemirror_mode": {
    "name": "ipython",
    "version": 3
   },
   "file_extension": ".py",
   "mimetype": "text/x-python",
   "name": "python",
   "nbconvert_exporter": "python",
   "pygments_lexer": "ipython3",
   "version": "3.9.7"
  }
 },
 "nbformat": 4,
 "nbformat_minor": 4
}
